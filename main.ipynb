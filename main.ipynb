{
 "cells": [
  {
   "cell_type": "markdown",
   "metadata": {},
   "source": [
    "# Analyzing all Pokemon Type Advantage Cycles"
   ]
  },
  {
   "cell_type": "code",
   "execution_count": null,
   "metadata": {},
   "outputs": [],
   "source": [
    "from poketypes import *"
   ]
  },
  {
   "cell_type": "markdown",
   "metadata": {},
   "source": [
    "Rank all types by the amount of advantages they have"
   ]
  },
  {
   "cell_type": "code",
   "execution_count": null,
   "metadata": {},
   "outputs": [],
   "source": [
    "list(map(lambda t: (id_to_type[t[0]], len(advantages[t[0]])), sorted(enumerate(advantages), key=lambda l: len(l[1]), reverse=True)))"
   ]
  },
  {
   "cell_type": "markdown",
   "metadata": {},
   "source": [
    "A simple cycle enumeration algorithm"
   ]
  },
  {
   "cell_type": "code",
   "execution_count": null,
   "metadata": {},
   "outputs": [],
   "source": [
    "#code available at: https://github.com/the-current-solution/find-all-cycles\n",
    "def enumerate_circuits(G):\n",
    "\n",
    "    paths = []\n",
    "    memo = [False for _ in G]\n",
    "    P = []\n",
    "\n",
    "    def path_extension():\n",
    "\n",
    "        if s in G[P[-1]]:\n",
    "            paths.append(list(P))\n",
    "\n",
    "        for w in G[P[-1]]:\n",
    "            if (\n",
    "                w > s\n",
    "                and not memo[w]\n",
    "            ):\n",
    "                P.append(w); memo[w] = True\n",
    "                path_extension()\n",
    "                P.pop(); memo[w] = False\n",
    "\n",
    "    for s in range(len(G)):\n",
    "        P = [s]; memo[s] = True\n",
    "        path_extension()\n",
    "\n",
    "    return paths"
   ]
  },
  {
   "cell_type": "markdown",
   "metadata": {},
   "source": [
    "Get all cycles and print their lengths"
   ]
  },
  {
   "cell_type": "code",
   "execution_count": null,
   "metadata": {},
   "outputs": [],
   "source": [
    "cycles = enumerate_circuits(advantages)\n",
    "\n",
    "len(cycles)"
   ]
  },
  {
   "cell_type": "code",
   "execution_count": null,
   "metadata": {},
   "outputs": [],
   "source": [
    "named_cycles = [list(map(id_to_type.__getitem__, l)) for l in cycles]"
   ]
  },
  {
   "cell_type": "code",
   "execution_count": null,
   "metadata": {},
   "outputs": [],
   "source": [
    "def print_path(path):\n",
    "    print()\n",
    "    for type in path:\n",
    "        print(id_to_type[type],end=',')\n",
    "\n",
    "for path in cycles:\n",
    "    print_path(path)"
   ]
  },
  {
   "cell_type": "markdown",
   "metadata": {},
   "source": [
    "Getting all cycles of length 3"
   ]
  },
  {
   "cell_type": "code",
   "execution_count": null,
   "metadata": {},
   "outputs": [],
   "source": [
    "[c for c in named_cycles if len(c) == 3]"
   ]
  },
  {
   "cell_type": "markdown",
   "metadata": {},
   "source": [
    "Getting all cycles that, in terms of type relationship, perfectly match the classic trio"
   ]
  },
  {
   "cell_type": "code",
   "execution_count": null,
   "metadata": {},
   "outputs": [],
   "source": [
    "[\n",
    "    list(map(id_to_type.__getitem__,l))\n",
    "    for l\n",
    "    in cycles\n",
    "    if (\n",
    "        len(l) == 3\n",
    "        and reversable(l)\n",
    "    )\n",
    "]"
   ]
  },
  {
   "cell_type": "markdown",
   "metadata": {},
   "source": [
    "Find all cycles that contain the Ghost type"
   ]
  },
  {
   "cell_type": "code",
   "execution_count": null,
   "metadata": {},
   "outputs": [],
   "source": [
    "for c in cycles:\n",
    "    if GHOST in c:\n",
    "        print_path(c)"
   ]
  }
 ],
 "metadata": {
  "kernelspec": {
   "display_name": "Python 3.9.6 64-bit",
   "language": "python",
   "name": "python3"
  },
  "language_info": {
   "codemirror_mode": {
    "name": "ipython",
    "version": 3
   },
   "file_extension": ".py",
   "mimetype": "text/x-python",
   "name": "python",
   "nbconvert_exporter": "python",
   "pygments_lexer": "ipython3",
   "version": "3.9.6"
  },
  "orig_nbformat": 4,
  "vscode": {
   "interpreter": {
    "hash": "31f2aee4e71d21fbe5cf8b01ff0e069b9275f58929596ceb00d14d90e3e16cd6"
   }
  }
 },
 "nbformat": 4,
 "nbformat_minor": 2
}
